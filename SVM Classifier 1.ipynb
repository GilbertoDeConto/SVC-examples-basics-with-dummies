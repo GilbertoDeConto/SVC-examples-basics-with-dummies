{
 "cells": [
  {
   "cell_type": "code",
   "execution_count": 21,
   "metadata": {},
   "outputs": [],
   "source": [
    "from sklearn.svm import LinearSVC\n",
    "from sklearn import svm\n",
    "import plotly.graph_objects as go\n",
    "import matplotlib.pyplot as plt\n",
    "import numpy as np\n",
    "import pandas as pd"
   ]
  },
  {
   "cell_type": "code",
   "execution_count": 5,
   "metadata": {},
   "outputs": [],
   "source": [
    "# If Y and Z are variables.."
   ]
  },
  {
   "cell_type": "code",
   "execution_count": 14,
   "metadata": {},
   "outputs": [],
   "source": [
    "#ax+by+c = 0 bidimentional   y = (-ax -c)/b < this would be my equation\n",
    "#ax+by+cz+d = 0 tri"
   ]
  },
  {
   "cell_type": "code",
   "execution_count": null,
   "metadata": {},
   "outputs": [],
   "source": [
    "#np.r_ put 2 arrays together \n",
    "#np.randn creates random values"
   ]
  },
  {
   "cell_type": "code",
   "execution_count": 16,
   "metadata": {},
   "outputs": [],
   "source": [
    "X = np.r_[np.random.randn(20,2) - [2,2], np.random.randn(20,2) + [2,2]]"
   ]
  },
  {
   "cell_type": "code",
   "execution_count": 19,
   "metadata": {},
   "outputs": [],
   "source": [
    "Y = [0] * 20 + [1] * 20"
   ]
  },
  {
   "cell_type": "code",
   "execution_count": 50,
   "metadata": {},
   "outputs": [
    {
     "data": {
      "text/plain": [
       "(-4.435300625067278, 4.803935917735847, -4.599085674054303, 4.528589775959308)"
      ]
     },
     "execution_count": 50,
     "metadata": {},
     "output_type": "execute_result"
    },
    {
     "data": {
      "image/png": "[encoded data removed]",
      "text/plain": [
       "<Figure size 432x288 with 1 Axes>"
      ]
     },
     "metadata": {
      "needs_background": "light"
     },
     "output_type": "display_data"
    }
   ],
   "source": [
    "#See how my data are being distributed \n",
    "fig, ax = plt.subplots()\n",
    "svm_classifier = LinearSVC()\n",
    "svm_classifier.fit(X,Y) #.fit == train\n",
    "\n",
    "a = svm_classifier.coef_[0][0]\n",
    "b = svm_classifier.coef_[0][1]\n",
    "c = svm_classifier.intercept_[0]\n",
    "\n",
    "\n",
    "#Build the Support Vector Machine Straight\n",
    "xx = np.linspace(-5,5) #Random Values in a given range (-5 ... 5)\n",
    "yy = (-a*xx -c)/b      #y = (-ax -c)/b\n",
    "\n",
    "x_min, x_max = X[:, 0].min()-1, X[:, 0].max()+1\n",
    "y_min, y_max = X[:, 1].min()-1, X[:, 1].max()+1 #X[:, 0] it gets all the column 0 lines #Did to do mass predictions\n",
    "\n",
    "xx2,yy2 = np.meshgrid(np.arange(x_min, x_max, 0.2), np.arange(y_min, y_max,0.2))\n",
    "\n",
    "Z = svm_classifier.predict(np.c_[xx2.ravel(), yy2.ravel()])  #.ravel take repeated values #np.c_ put everything in the same DIM\n",
    "Z = Z.reshape(xx2.shape)  #For the Z to have the same shape as xx2\n",
    "\n",
    "#SVM Straight\n",
    "ax.contourf(xx2,yy2, Z, cmap=plt.cm.coolwarm)\n",
    "#Real Points \n",
    "ax.scatter(X[:, 0], X[:, 1], c=Y)\n",
    "#Mass predictions\n",
    "ax.plot(xx,yy)\n",
    "ax.axis([x_min, x_max, y_min, y_max])         #The points closest to the line are the Support vectors!"
   ]
  },
  {
   "cell_type": "code",
   "execution_count": 60,
   "metadata": {},
   "outputs": [
    {
     "data": {
      "text/plain": [
       "array([0])"
      ]
     },
     "execution_count": 60,
     "metadata": {},
     "output_type": "execute_result"
    }
   ],
   "source": [
    "svm_classifier.predict([[-4,-4]])"
   ]
  }
 ],
 "metadata": {
  "kernelspec": {
   "display_name": "Python 3",
   "language": "python",
   "name": "python3"
  },
  "language_info": {
   "codemirror_mode": {
    "name": "ipython",
    "version": 3
   },
   "file_extension": ".py",
   "mimetype": "text/x-python",
   "name": "python",
   "nbconvert_exporter": "python",
   "pygments_lexer": "ipython3",
   "version": "3.6.9"
  }
 },
 "nbformat": 4,
 "nbformat_minor": 2
}
